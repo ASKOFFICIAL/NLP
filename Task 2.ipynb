{
 "cells": [
  {
   "cell_type": "code",
   "execution_count": 2,
   "id": "8533ca37",
   "metadata": {},
   "outputs": [
    {
     "data": {
      "text/plain": [
       "FreqDist({'is': 6, 'in': 6, 'to': 5, 'a': 5, 'the': 5, 'you': 4, 'competitive': 4, 'of': 3, 'book': 3, 'The': 2, ...})"
      ]
     },
     "execution_count": 2,
     "metadata": {},
     "output_type": "execute_result"
    }
   ],
   "source": [
    "import nltk\n",
    "text1='''The purpose of this book is to give you a thorough introduction to competitive\n",
    "programming. It is assumed that you already know the basics of programming,\n",
    "but no previous background in competitive programming is needed.\n",
    "The book is especially intended for students who want to learn algorithms\n",
    "and possibly participate in the International Olympiad in Informatics (IOI) or in\n",
    "the International Collegiate Programming Contest (ICPC). Of course, the book is\n",
    "also suitable for anybody else interested in competitive programming.\n",
    "It takes a long time to become a good competitive programmer, but it is also\n",
    "an opportunity to learn a lot. You can be sure that you will get a good general\n",
    "understanding of algorithms if you spend time reading the book, solving problems\n",
    "and taking part in contests.'''\n",
    "fd=nltk.FreqDist(text1.split())#Makes Dictionary in descending order of word frequency\n",
    "fd"
   ]
  },
  {
   "cell_type": "code",
   "execution_count": 4,
   "id": "5f6c0a8f",
   "metadata": {},
   "outputs": [],
   "source": [
    "#Conditional Frequency: FreqDist which satisfies a condition\n",
    "from nltk import ConditionalFreqDist\n"
   ]
  },
  {
   "cell_type": "code",
   "execution_count": 5,
   "id": "cb69f91d",
   "metadata": {},
   "outputs": [
    {
     "data": {
      "text/plain": [
       "FreqDist({'book': 3, 'that': 2, 'also': 2, 'time': 2, 'good': 2, 'this': 1, 'give': 1, 'know': 1, 'want': 1, 'else': 1, ...})"
      ]
     },
     "execution_count": 5,
     "metadata": {},
     "output_type": "execute_result"
    }
   ],
   "source": [
    "cfd=ConditionalFreqDist((len(word),word)for word in text1.split())\n",
    "cfd[4]#Shows all 4 letter words"
   ]
  },
  {
   "cell_type": "markdown",
   "id": "fe88e041",
   "metadata": {},
   "source": [
    "# HW To Determine Frequency Distribution and Conditional Frequency Distribution of any one of the Presidential Inaugural addresses and histogram"
   ]
  },
  {
   "cell_type": "markdown",
   "id": "6e4acfae",
   "metadata": {},
   "source": [
    "# NOUNS MEAN BUSINESS"
   ]
  },
  {
   "cell_type": "code",
   "execution_count": 6,
   "id": "3b2566c8",
   "metadata": {},
   "outputs": [
    {
     "data": {
      "text/plain": [
       "['1789-Washington.txt',\n",
       " '1793-Washington.txt',\n",
       " '1797-Adams.txt',\n",
       " '1801-Jefferson.txt',\n",
       " '1805-Jefferson.txt',\n",
       " '1809-Madison.txt',\n",
       " '1813-Madison.txt',\n",
       " '1817-Monroe.txt',\n",
       " '1821-Monroe.txt',\n",
       " '1825-Adams.txt',\n",
       " '1829-Jackson.txt',\n",
       " '1833-Jackson.txt',\n",
       " '1837-VanBuren.txt',\n",
       " '1841-Harrison.txt',\n",
       " '1845-Polk.txt',\n",
       " '1849-Taylor.txt',\n",
       " '1853-Pierce.txt',\n",
       " '1857-Buchanan.txt',\n",
       " '1861-Lincoln.txt',\n",
       " '1865-Lincoln.txt',\n",
       " '1869-Grant.txt',\n",
       " '1873-Grant.txt',\n",
       " '1877-Hayes.txt',\n",
       " '1881-Garfield.txt',\n",
       " '1885-Cleveland.txt',\n",
       " '1889-Harrison.txt',\n",
       " '1893-Cleveland.txt',\n",
       " '1897-McKinley.txt',\n",
       " '1901-McKinley.txt',\n",
       " '1905-Roosevelt.txt',\n",
       " '1909-Taft.txt',\n",
       " '1913-Wilson.txt',\n",
       " '1917-Wilson.txt',\n",
       " '1921-Harding.txt',\n",
       " '1925-Coolidge.txt',\n",
       " '1929-Hoover.txt',\n",
       " '1933-Roosevelt.txt',\n",
       " '1937-Roosevelt.txt',\n",
       " '1941-Roosevelt.txt',\n",
       " '1945-Roosevelt.txt',\n",
       " '1949-Truman.txt',\n",
       " '1953-Eisenhower.txt',\n",
       " '1957-Eisenhower.txt',\n",
       " '1961-Kennedy.txt',\n",
       " '1965-Johnson.txt',\n",
       " '1969-Nixon.txt',\n",
       " '1973-Nixon.txt',\n",
       " '1977-Carter.txt',\n",
       " '1981-Reagan.txt',\n",
       " '1985-Reagan.txt',\n",
       " '1989-Bush.txt',\n",
       " '1993-Clinton.txt',\n",
       " '1997-Clinton.txt',\n",
       " '2001-Bush.txt',\n",
       " '2005-Bush.txt',\n",
       " '2009-Obama.txt',\n",
       " '2013-Obama.txt',\n",
       " '2017-Trump.txt',\n",
       " '2021-Biden.txt']"
      ]
     },
     "execution_count": 6,
     "metadata": {},
     "output_type": "execute_result"
    }
   ],
   "source": [
    "from nltk.corpus import inaugural\n",
    "inaugural.fileids()"
   ]
  },
  {
   "cell_type": "code",
   "execution_count": 22,
   "id": "3d6fbf1c",
   "metadata": {},
   "outputs": [
    {
     "data": {
      "text/plain": [
       "FreqDist({'the': 55, ',': 43, 'to': 26, 'and': 24, '.': 23, 'of': 22, 'it': 12, 'war': 12, 'that': 11, 'for': 9, ...})"
      ]
     },
     "execution_count": 22,
     "metadata": {},
     "output_type": "execute_result"
    }
   ],
   "source": [
    "address=inaugural.words(fileids='1865-Lincoln.txt')\n",
    "fd=nltk.FreqDist(address)\n",
    "fd"
   ]
  },
  {
   "cell_type": "code",
   "execution_count": 25,
   "id": "7cbce517",
   "metadata": {},
   "outputs": [
    {
     "data": {
      "text/plain": [
       "FreqDist({'altogether': 2, 'Countrymen': 1, 'expiration': 1, 'constantly': 1, 'reasonably': 1, 'prediction': 1, 'deprecated': 1, 'population': 1, 'strengthen': 1, 'perpetuate': 1, ...})"
      ]
     },
     "execution_count": 25,
     "metadata": {},
     "output_type": "execute_result"
    }
   ],
   "source": [
    "cfd=nltk.ConditionalFreqDist((len(word),word) for word in address)\n",
    "cfd[10]\n"
   ]
  },
  {
   "cell_type": "markdown",
   "id": "a2935f5b",
   "metadata": {},
   "source": [
    "# Segmentation JIEBA LIBRARY"
   ]
  },
  {
   "cell_type": "code",
   "execution_count": 26,
   "id": "5d305965",
   "metadata": {},
   "outputs": [
    {
     "name": "stderr",
     "output_type": "stream",
     "text": [
      "Building prefix dict from the default dictionary ...\n",
      "Dumping model to file cache C:\\Users\\abhin\\AppData\\Local\\Temp\\jieba.cache\n",
      "Loading model cost 0.799 seconds.\n",
      "Prefix dict has been built successfully.\n"
     ]
    },
    {
     "name": "stdout",
     "output_type": "stream",
     "text": [
      "对不起 明天 在 商店 书\n"
     ]
    }
   ],
   "source": [
    "import jieba\n",
    "text=\"对不起明天在商店书\"\n",
    "seg=jieba.cut(text)\n",
    "print(\" \".join(seg))"
   ]
  },
  {
   "cell_type": "markdown",
   "id": "9492d85b",
   "metadata": {},
   "source": [
    "\n",
    "# TEXT PROCESSING"
   ]
  },
  {
   "cell_type": "code",
   "execution_count": 27,
   "id": "602184be",
   "metadata": {},
   "outputs": [
    {
     "name": "stdout",
     "output_type": "stream",
     "text": [
      "['Become', 'an', 'expert', 'in', 'NLP']\n"
     ]
    }
   ],
   "source": [
    "sent=\"Become an expert in NLP\"\n",
    "words=nltk.word_tokenize(sent)\n",
    "print(words)"
   ]
  },
  {
   "cell_type": "code",
   "execution_count": 10,
   "id": "dbbc2114",
   "metadata": {},
   "outputs": [
    {
     "name": "stdout",
     "output_type": "stream",
     "text": [
      "[('Albert', 'NNP'), ('Camus', 'NNP'), ('(', '('), ('1913-1960', 'JJ'), (')', ')'), ('gives', 'VBZ'), ('a', 'DT'), ('quite', 'RB'), ('different', 'JJ'), ('account', 'NN'), ('of', 'IN'), ('philosophy', 'NN'), ('and', 'CC'), ('politics', 'NNS'), ('of', 'IN'), ('existentialism', 'NN'), ('from', 'IN'), ('that', 'DT'), ('of', 'IN'), ('Sartre', 'NNP'), ('.', '.')]\n",
      "[('Perhaps', 'RB'), ('the', 'DT'), ('most', 'RBS'), ('striking', 'JJ'), ('difference', 'NN'), ('from', 'IN'), ('Sartre', 'NNP'), ('is', 'VBZ'), ('his', 'PRP$'), ('conception', 'NN'), ('of', 'IN'), ('the', 'DT'), ('absurd', 'NN'), ('.', '.')]\n",
      "[('For', 'IN'), ('Sartre', 'NNP'), ('absurdity', 'NN'), ('belongs', 'NNS'), ('to', 'TO'), ('the', 'DT'), ('world', 'NN'), ('prior', 'RB'), ('to', 'TO'), ('activity', 'NN'), ('of', 'IN'), ('consciousness', 'NN'), (',', ','), ('while', 'IN'), ('Camus', 'NNP'), ('’', 'NNP'), ('s', 'VBD'), ('idea', 'NN'), ('of', 'IN'), ('the', 'DT'), ('absurd', 'NN'), ('is', 'VBZ'), ('closer', 'RBR'), ('to', 'TO'), ('Kierkegaard', 'NNP'), ('and', 'CC'), ('Nietzsche—the', 'NNP'), ('absurd', 'NN'), ('is', 'VBZ'), ('a', 'DT'), ('direct', 'JJ'), ('consequence', 'NN'), ('of', 'IN'), ('the', 'DT'), ('absence', 'NN'), ('of', 'IN'), ('God', 'NNP'), ('.', '.')]\n",
      "[('Without', 'IN'), ('God', 'NNP'), ('the', 'DT'), ('discrepancy', 'NN'), ('between', 'IN'), ('human', 'JJ'), ('aspirations', 'NNS'), ('and', 'CC'), ('the', 'DT'), ('world', 'NN'), ('is', 'VBZ'), ('acute', 'JJ'), ('.', '.')]\n",
      "[('The', 'DT'), ('human', 'JJ'), ('condition', 'NN'), ('is', 'VBZ'), ('characterized', 'VBN'), ('by', 'IN'), ('the', 'DT'), ('probability', 'NN'), ('of', 'IN'), ('suffering', 'NN'), ('and', 'CC'), ('the', 'DT'), ('certainty', 'NN'), ('of', 'IN'), ('death—a', 'NN'), ('fate', 'NN'), ('which', 'WDT'), ('human', 'JJ'), ('reason', 'NN'), ('can', 'MD'), ('not', 'RB'), ('accept', 'VB'), ('as', 'IN'), ('reasonable', 'JJ'), ('.', '.')]\n",
      "[('In', 'IN'), ('the', 'DT'), ('face', 'NN'), ('of', 'IN'), ('this', 'DT'), ('absurdity', 'NN'), (',', ','), ('the', 'DT'), ('universal', 'JJ'), ('reason', 'NN'), ('of', 'IN'), ('the', 'DT'), ('Enlightenment', 'NNP'), ('has', 'VBZ'), ('nothing', 'NN'), ('to', 'TO'), ('say', 'VB'), ('.', '.')]\n",
      "[('In', 'IN'), ('The', 'DT'), ('Myth', 'NNP'), ('of', 'IN'), ('Sisyphus', 'NNP'), ('Camus', 'NNP'), ('elucidates', 'VBZ'), ('this', 'DT'), ('concept', 'NN'), ('of', 'IN'), ('the', 'DT'), ('absurd', 'NN'), ('.', '.')]\n",
      "[('The', 'DT'), ('absurd', 'NN'), ('comes', 'VBZ'), ('with', 'IN'), ('the', 'DT'), ('realization', 'NN'), ('that', 'IN'), ('the', 'DT'), ('world', 'NN'), ('is', 'VBZ'), ('not', 'RB'), ('rational', 'JJ'), (':', ':'), ('“', 'NN'), ('At', 'IN'), ('this', 'DT'), ('point', 'NN'), ('of', 'IN'), ('his', 'PRP$'), ('effort', 'NN'), ('man', 'NN'), ('stands', 'VBZ'), ('face', 'NN'), ('to', 'TO'), ('face', 'NN'), ('with', 'IN'), ('the', 'DT'), ('irrational', 'NN'), ('.', '.')]\n",
      "[('He', 'PRP'), ('feels', 'VBZ'), ('within', 'IN'), ('him', 'PRP'), ('his', 'PRP$'), ('longing', 'NN'), ('for', 'IN'), ('happiness', 'NN'), ('and', 'CC'), ('for', 'IN'), ('reason', 'NN'), ('.', '.')]\n",
      "[('The', 'DT'), ('absurd', 'NN'), ('is', 'VBZ'), ('born', 'VBN'), ('of', 'IN'), ('this', 'DT'), ('confrontation', 'NN'), ('between', 'IN'), ('the', 'DT'), ('human', 'JJ'), ('need', 'NN'), ('and', 'CC'), ('the', 'DT'), ('unreasonable', 'JJ'), ('silence', 'NN'), ('of', 'IN'), ('the', 'DT'), ('world', 'NN')]\n"
     ]
    }
   ],
   "source": [
    "import nltk\n",
    "texts=[\"\"\"Albert Camus (1913-1960) gives a quite different account of philosophy and politics of\n",
    "existentialism from that of Sartre. Perhaps the most striking difference from Sartre is his\n",
    "conception of the absurd. For Sartre absurdity belongs to the world prior to activity of\n",
    "consciousness, while Camus’s idea of the absurd is closer to Kierkegaard and Nietzsche—the\n",
    "absurd is a direct consequence of the absence of God. Without God the discrepancy between\n",
    "human aspirations and the world is acute. The human condition is characterized by the\n",
    "probability of suffering and the certainty of death—a fate which human reason cannot accept as\n",
    "reasonable. In the face of this absurdity, the universal reason of the Enlightenment has nothing to\n",
    "say. In The Myth of Sisyphus Camus elucidates this concept of the absurd. The absurd comes\n",
    "with the realization that the world is not rational: “At this point of his effort man stands face to\n",
    "face with the irrational. He feels within him his longing for happiness and for reason. The absurd\n",
    "is born of this confrontation between the human need and the unreasonable silence of the world\"\"\"]\n",
    "for text in texts:\n",
    "    sentences =nltk.sent_tokenize(text)\n",
    "    for sentence in sentences:\n",
    "        words=nltk.word_tokenize(sentence)\n",
    "        tags=nltk.pos_tag(words)#45 POS by University of Pennsylvania\n",
    "        print(tags)"
   ]
  }
 ],
 "metadata": {
  "kernelspec": {
   "display_name": "Python 3 (ipykernel)",
   "language": "python",
   "name": "python3"
  },
  "language_info": {
   "codemirror_mode": {
    "name": "ipython",
    "version": 3
   },
   "file_extension": ".py",
   "mimetype": "text/x-python",
   "name": "python",
   "nbconvert_exporter": "python",
   "pygments_lexer": "ipython3",
   "version": "3.9.13"
  }
 },
 "nbformat": 4,
 "nbformat_minor": 5
}
